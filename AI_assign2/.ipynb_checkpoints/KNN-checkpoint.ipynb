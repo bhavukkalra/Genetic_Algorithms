{
 "cells": [
  {
   "cell_type": "code",
   "execution_count": 146,
   "metadata": {},
   "outputs": [],
   "source": [
    "import numpy as np\n",
    "import pandas as pd\n",
    "import matplotlib.pyplot as plt\n",
    "#for visualizing purposes only\n"
   ]
  },
  {
   "cell_type": "code",
   "execution_count": 147,
   "metadata": {},
   "outputs": [],
   "source": [
    "#Food Type is our label of our dataset\n",
    "#There are 2 features given to us => Sweet and Crunch\n",
    "# and 4 sample data points\n",
    "input_data = {\n",
    "    \"Ingredient\": [\"Grape\", \"Green Bean\", \"Nuts\", \"Orange\"],\n",
    "    \"Sweet\": [8, 3, 3, 7],\n",
    "    \"Crunch\": [5, 7, 6, 3],\n",
    "    \"Food_Type\": [\"Fruit\", \"Vegetable\", \"Protein\", \"Fruit\"]\n",
    "}"
   ]
  },
  {
   "cell_type": "code",
   "execution_count": 148,
   "metadata": {},
   "outputs": [],
   "source": [
    "#for convenience lets give labels a number to be feed into the KNN\n",
    "matching = {\n",
    "    \"Fruit\": 1,\n",
    "    \"Vegetable\": 2,\n",
    "    \"Protein\": 3\n",
    "}"
   ]
  },
  {
   "cell_type": "code",
   "execution_count": 149,
   "metadata": {},
   "outputs": [],
   "source": [
    "for food_type in range(len(input_data[\"Food_Type\"])):\n",
    "    \n",
    "    input_data[\"Food_Type\"][food_type] = matching[input_data[\"Food_Type\"][food_type]]\n",
    "    \n",
    "    "
   ]
  },
  {
   "cell_type": "code",
   "execution_count": null,
   "metadata": {},
   "outputs": [],
   "source": []
  },
  {
   "cell_type": "code",
   "execution_count": 150,
   "metadata": {},
   "outputs": [],
   "source": [
    "df = pd.DataFrame(input_data)"
   ]
  },
  {
   "cell_type": "code",
   "execution_count": 151,
   "metadata": {},
   "outputs": [
    {
     "data": {
      "text/html": [
       "<div>\n",
       "<style scoped>\n",
       "    .dataframe tbody tr th:only-of-type {\n",
       "        vertical-align: middle;\n",
       "    }\n",
       "\n",
       "    .dataframe tbody tr th {\n",
       "        vertical-align: top;\n",
       "    }\n",
       "\n",
       "    .dataframe thead th {\n",
       "        text-align: right;\n",
       "    }\n",
       "</style>\n",
       "<table border=\"1\" class=\"dataframe\">\n",
       "  <thead>\n",
       "    <tr style=\"text-align: right;\">\n",
       "      <th></th>\n",
       "      <th>Ingredient</th>\n",
       "      <th>Sweet</th>\n",
       "      <th>Crunch</th>\n",
       "      <th>Food_Type</th>\n",
       "    </tr>\n",
       "  </thead>\n",
       "  <tbody>\n",
       "    <tr>\n",
       "      <th>0</th>\n",
       "      <td>Grape</td>\n",
       "      <td>8</td>\n",
       "      <td>5</td>\n",
       "      <td>1</td>\n",
       "    </tr>\n",
       "    <tr>\n",
       "      <th>1</th>\n",
       "      <td>Green Bean</td>\n",
       "      <td>3</td>\n",
       "      <td>7</td>\n",
       "      <td>2</td>\n",
       "    </tr>\n",
       "    <tr>\n",
       "      <th>2</th>\n",
       "      <td>Nuts</td>\n",
       "      <td>3</td>\n",
       "      <td>6</td>\n",
       "      <td>3</td>\n",
       "    </tr>\n",
       "    <tr>\n",
       "      <th>3</th>\n",
       "      <td>Orange</td>\n",
       "      <td>7</td>\n",
       "      <td>3</td>\n",
       "      <td>1</td>\n",
       "    </tr>\n",
       "  </tbody>\n",
       "</table>\n",
       "</div>"
      ],
      "text/plain": [
       "   Ingredient  Sweet  Crunch  Food_Type\n",
       "0       Grape      8       5          1\n",
       "1  Green Bean      3       7          2\n",
       "2        Nuts      3       6          3\n",
       "3      Orange      7       3          1"
      ]
     },
     "execution_count": 151,
     "metadata": {},
     "output_type": "execute_result"
    }
   ],
   "source": [
    "df.head()"
   ]
  },
  {
   "cell_type": "code",
   "execution_count": 152,
   "metadata": {},
   "outputs": [],
   "source": [
    "#Sweet would go on x-axis and Crunch on y-axis and label as there are currently \n",
    "#only two features => 2D plot\n"
   ]
  },
  {
   "cell_type": "code",
   "execution_count": 153,
   "metadata": {},
   "outputs": [
    {
     "data": {
      "text/plain": [
       "numpy.ndarray"
      ]
     },
     "execution_count": 153,
     "metadata": {},
     "output_type": "execute_result"
    }
   ],
   "source": [
    "#as we cannot have slicing in a dataframe => convert it into np array\n",
    "data = df.values\n",
    "type(data)"
   ]
  },
  {
   "cell_type": "code",
   "execution_count": 154,
   "metadata": {},
   "outputs": [],
   "source": [
    "#select all rows => starting from 1st column to 3rd column(exclusive)(0 indexed)\n",
    "X = data[:,1:3]\n",
    "Y = data[:,3]"
   ]
  },
  {
   "cell_type": "code",
   "execution_count": 155,
   "metadata": {},
   "outputs": [
    {
     "data": {
      "text/plain": [
       "array([[8, 5],\n",
       "       [3, 7],\n",
       "       [3, 6],\n",
       "       [7, 3]], dtype=object)"
      ]
     },
     "execution_count": 155,
     "metadata": {},
     "output_type": "execute_result"
    }
   ],
   "source": [
    "X"
   ]
  },
  {
   "cell_type": "code",
   "execution_count": 156,
   "metadata": {},
   "outputs": [
    {
     "data": {
      "text/plain": [
       "array([1, 2, 3, 1], dtype=object)"
      ]
     },
     "execution_count": 156,
     "metadata": {},
     "output_type": "execute_result"
    }
   ],
   "source": [
    "Y\n"
   ]
  },
  {
   "cell_type": "code",
   "execution_count": 157,
   "metadata": {},
   "outputs": [],
   "source": [
    "test_fruit = np.array([6,4])"
   ]
  },
  {
   "cell_type": "code",
   "execution_count": 158,
   "metadata": {},
   "outputs": [
    {
     "data": {
      "image/png": "[encoded data removed]",
      "text/plain": [
       "<Figure size 640x480 with 1 Axes>"
      ]
     },
     "metadata": {},
     "output_type": "display_data"
    }
   ],
   "source": [
    "plt.style.use('classic')\n",
    "plt.title(\"My Scatter Plot\")\n",
    "plt.xlabel(\"Sweet\")\n",
    "plt.ylabel(\"Crunch\")\n",
    "plt.scatter(test_fruit[0], test_fruit[1], color = 'green', marker = '*')\n",
    "plt.scatter(X[:,0], X[:,1], c = Y)\n",
    "plt.show()"
   ]
  },
  {
   "cell_type": "code",
   "execution_count": 159,
   "metadata": {},
   "outputs": [],
   "source": [
    "\n",
    "def distance(a1,a2):\n",
    "    return np.sum((a1-a2)**2)**0.5"
   ]
  },
  {
   "cell_type": "code",
   "execution_count": 160,
   "metadata": {},
   "outputs": [],
   "source": [
    "def KNN(X,Y,test_point,k = 4):\n",
    "    m = X.shape[0]\n",
    "    values = []\n",
    "\n",
    "    for i in range(m):\n",
    "        \n",
    "        d = distance(test_point,X[i])\n",
    "        values.append((d,Y[i]))#storing the distance and the label\n",
    "        \n",
    "    values = sorted(values)\n",
    "    values = np.array(values[:k]) # for slicing we need a np array(taking first k shortest distances)\n",
    "    \n",
    "    \n",
    "    \n",
    "    values = values[:,1] # we only need the labels\n",
    "    b = np.unique(values,return_counts= True)\n",
    "    \n",
    "    idx = np.argmax(b[1]) #index of max arguement\n",
    "    pred = b[0][idx]  #selecting max arguement\n",
    "    \n",
    "    return int(pred)"
   ]
  },
  {
   "cell_type": "code",
   "execution_count": 161,
   "metadata": {},
   "outputs": [],
   "source": [
    "prediction = KNN(X,Y,test_fruit)"
   ]
  },
  {
   "cell_type": "code",
   "execution_count": 162,
   "metadata": {},
   "outputs": [
    {
     "name": "stdout",
     "output_type": "stream",
     "text": [
      "The predicted food type is =  Fruit\n"
     ]
    }
   ],
   "source": [
    "for i in matching:\n",
    "    if(matching[i] == prediction):\n",
    "        print(\"The predicted food type is = \", i)"
   ]
  },
  {
   "cell_type": "code",
   "execution_count": null,
   "metadata": {},
   "outputs": [],
   "source": []
  },
  {
   "cell_type": "code",
   "execution_count": null,
   "metadata": {},
   "outputs": [],
   "source": []
  }
 ],
 "metadata": {
  "kernelspec": {
   "display_name": "Python 3",
   "language": "python",
   "name": "python3"
  },
  "language_info": {
   "codemirror_mode": {
    "name": "ipython",
    "version": 3
   },
   "file_extension": ".py",
   "mimetype": "text/x-python",
   "name": "python",
   "nbconvert_exporter": "python",
   "pygments_lexer": "ipython3",
   "version": "3.7.6"
  }
 },
 "nbformat": 4,
 "nbformat_minor": 4
}
